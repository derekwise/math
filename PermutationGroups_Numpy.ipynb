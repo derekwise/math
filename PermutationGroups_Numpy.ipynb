{
  "nbformat": 4,
  "nbformat_minor": 0,
  "metadata": {
    "colab": {
      "name": "PermutationGroups_Numpy.ipynb",
      "version": "0.3.2",
      "provenance": [],
      "collapsed_sections": [],
      "include_colab_link": true
    },
    "kernelspec": {
      "name": "python3",
      "display_name": "Python 3"
    }
  },
  "cells": [
    {
      "cell_type": "markdown",
      "metadata": {
        "id": "view-in-github",
        "colab_type": "text"
      },
      "source": [
        "[View in Colaboratory](https://colab.research.google.com/github/derekwise/math/blob/master/PermutationGroups_Numpy.ipynb)"
      ]
    },
    {
      "metadata": {
        "id": "bo2xFn4Td-Ra",
        "colab_type": "text"
      },
      "cell_type": "markdown",
      "source": [
        "# Fast Permutation Group Computations in Numpy\n",
        "\n",
        "**Derek K. Wise**\n",
        "\n",
        "One common notation for a permutation of $n$ elements is simply given by indexing the original elements in order, and then listing these indices in the order they appear after permutation.  For example, this list:\n",
        "$$[1,3,0,2]$$ \n",
        "denotes the permutation given by\n",
        "$$\\begin{array}{ccc}\n",
        " 0 &\\mapsto& 1 \\\\\n",
        " 1 &\\mapsto& 3 \\\\\n",
        " 2 &\\mapsto& 0 \\\\\n",
        " 3 &\\mapsto& 2 \n",
        "\\end{array}\n",
        "$$\n",
        "\n",
        "In Python, we could represent such a permutation by simply using the `list` data structure.  However, it is really convenient to to use numpy arrays instead, for these reasons: \n",
        "\n",
        "1. The group's multiplication is simply composition using numpy's \"advanced indexing\" features.\n",
        "2. The inverse operation is simply numpy's built-in `argsort` method.\n",
        "3. If you need to do *many* group operations simultaneously, the [vectorization](https://en.wikipedia.org/wiki/Array_programming) of numpy arrays makes such calculations very efficient.  "
      ]
    },
    {
      "metadata": {
        "id": "SZ9148rid871",
        "colab_type": "code",
        "colab": {}
      },
      "cell_type": "code",
      "source": [
        "import numpy as np"
      ],
      "execution_count": 0,
      "outputs": []
    },
    {
      "metadata": {
        "id": "UvuyjV53OKw9",
        "colab_type": "text"
      },
      "cell_type": "markdown",
      "source": [
        "## Permutation arrays\n",
        "\n",
        "Let's define a **permuations array** to be a 1d numpy array whose entries are some permutation of the numbers $0, 1, ... , (n-1)$ for some natural number $n$.  So, a typical permuation array looks like this:"
      ]
    },
    {
      "metadata": {
        "id": "bKlg11csz6BQ",
        "colab_type": "code",
        "colab": {
          "base_uri": "https://localhost:8080/",
          "height": 34
        },
        "outputId": "21ef68d8-c99e-4d68-e642-3774772a8a7f"
      },
      "cell_type": "code",
      "source": [
        "np.array([1,3,0,2])"
      ],
      "execution_count": 2,
      "outputs": [
        {
          "output_type": "execute_result",
          "data": {
            "text/plain": [
              "array([1, 3, 0, 2])"
            ]
          },
          "metadata": {
            "tags": []
          },
          "execution_count": 2
        }
      ]
    },
    {
      "metadata": {
        "id": "CgV5NnWzfNuE",
        "colab_type": "text"
      },
      "cell_type": "markdown",
      "source": [
        "## Multiplication is \"advanced indexing\"\n",
        "\n",
        "The simplest kind of [advanced indexing](https://docs.scipy.org/doc/numpy-1.13.0/reference/arrays.indexing.html#advanced-indexing) in numpy is something like `x[[2,0,1]]`, where `x` is a 1d array.  This returns a new 1d array whose elements are elements of `x` in the order 2, 0, 1.  For example, if we let `x = array(['a','b','c'])`,  then `x[[2,0,1]] = array(['c','a','b'])`.  This also works when the index array, `[2,0,1]` in this case, is a numpy array rather than a list:\n",
        "\n"
      ]
    },
    {
      "metadata": {
        "id": "xgT5bQrw2maV",
        "colab_type": "code",
        "colab": {
          "base_uri": "https://localhost:8080/",
          "height": 34
        },
        "outputId": "b7683748-5237-4b0a-de22-a31c09425988"
      },
      "cell_type": "code",
      "source": [
        "x = np.array(['a','b','c'])\n",
        "p = np.array([2,0,1])\n",
        "\n",
        "print(x[p])"
      ],
      "execution_count": 3,
      "outputs": [
        {
          "output_type": "stream",
          "text": [
            "['c' 'a' 'b']\n"
          ],
          "name": "stdout"
        }
      ]
    },
    {
      "metadata": {
        "id": "cuhr1yUL2odA",
        "colab_type": "text"
      },
      "cell_type": "markdown",
      "source": [
        "In other words, at least in the case where `x` is a 1d array and `p` is a permutation array of the same length `x[p]` is just the permutation `p` applied to the entries of `x`.\n",
        "\n",
        "This lets us use permutation arrays to permutate the entries of other arrays (see <a href=\"#actions\">Actions</a>, below).  More importantly a permutation array can permute the entries of another *permutation* array.  This is exactly how multiplication (or composition) of permutation arrays works.  An example: "
      ]
    },
    {
      "metadata": {
        "id": "gSkl82VffliU",
        "colab_type": "code",
        "colab": {}
      },
      "cell_type": "code",
      "source": [
        "x1 = np.array([0,4,3,1,2])\n",
        "x2 = np.array([4,1,2,0,3])"
      ],
      "execution_count": 0,
      "outputs": []
    },
    {
      "metadata": {
        "id": "bUJ9AwinSkWq",
        "colab_type": "code",
        "colab": {
          "base_uri": "https://localhost:8080/",
          "height": 34
        },
        "outputId": "4cffeaaf-f827-4f0f-f41d-246c7f386be1"
      },
      "cell_type": "code",
      "source": [
        "x1[x2]"
      ],
      "execution_count": 5,
      "outputs": [
        {
          "output_type": "execute_result",
          "data": {
            "text/plain": [
              "array([2, 4, 3, 0, 1])"
            ]
          },
          "metadata": {
            "tags": []
          },
          "execution_count": 5
        }
      ]
    },
    {
      "metadata": {
        "id": "IHXwUnj33dWv",
        "colab_type": "text"
      },
      "cell_type": "markdown",
      "source": [
        "You can check that this is indeed the result of doing `x2` first and then `x1`. "
      ]
    },
    {
      "metadata": {
        "id": "wD1Os0UJ5fkw",
        "colab_type": "text"
      },
      "cell_type": "markdown",
      "source": [
        "### Identity\n",
        "\n",
        "The identity permutation on $n$ elements is `[0, 1, ... , n-1]`, which in numpy language is just `arange(n)`:"
      ]
    },
    {
      "metadata": {
        "id": "3eg63YF25etf",
        "colab_type": "code",
        "colab": {
          "base_uri": "https://localhost:8080/",
          "height": 34
        },
        "outputId": "7ecf5084-f0bd-4732-ad7e-4d2a1d2bee8a"
      },
      "cell_type": "code",
      "source": [
        "def id(n):\n",
        "  return np.arange(n)\n",
        "\n",
        "print(id(4))"
      ],
      "execution_count": 6,
      "outputs": [
        {
          "output_type": "stream",
          "text": [
            "[0 1 2 3]\n"
          ],
          "name": "stdout"
        }
      ]
    },
    {
      "metadata": {
        "id": "OeEQAKnE7G-8",
        "colab_type": "text"
      },
      "cell_type": "markdown",
      "source": [
        "Let's check this on an example. I'll define a permutation array `x` of length 5 and then check that\n",
        "```\n",
        "x[id(5)] == x\n",
        "id(5)[x] == x\n",
        "```\n",
        "\n",
        "Since the `==` operator on numpy arrays works componentwise, returning an array of boolean values, it is convenient to enclose the result in an `all( )`, so that we get a single boolean:"
      ]
    },
    {
      "metadata": {
        "id": "kV01lH5I6NyX",
        "colab_type": "code",
        "colab": {
          "base_uri": "https://localhost:8080/",
          "height": 52
        },
        "outputId": "e8998ea4-cc23-46cd-902f-211f07588d6a"
      },
      "cell_type": "code",
      "source": [
        "x = np.array([0,4,3,1,2])\n",
        "\n",
        "print(all(x[id(5)] == x))\n",
        "print(all(id(5)[x] == x))"
      ],
      "execution_count": 7,
      "outputs": [
        {
          "output_type": "stream",
          "text": [
            "True\n",
            "True\n"
          ],
          "name": "stdout"
        }
      ]
    },
    {
      "metadata": {
        "id": "qDT9WIjWM0WE",
        "colab_type": "text"
      },
      "cell_type": "markdown",
      "source": [
        "### Associativity\n",
        "\n",
        "Since our group multiplication is $(x,y)\\mapsto x[y]$, associativity takes the form $$x[y][z] = x[y[z]]$$\n",
        "This holds for any permutation arrays of the same size, but let's just check it in Python on one example. "
      ]
    },
    {
      "metadata": {
        "id": "TtQW72lRMyF1",
        "colab_type": "code",
        "colab": {
          "base_uri": "https://localhost:8080/",
          "height": 34
        },
        "outputId": "6d2fab83-215d-47b4-e319-06c553a30622"
      },
      "cell_type": "code",
      "source": [
        "x1 = np.array([0,4,3,1,2])\n",
        "x2 = np.array([4,1,2,0,3])\n",
        "x3 = np.array([2,1,4,3,0])\n",
        "\n",
        "all(x1[x2[x3]] == x1[x2][x3])"
      ],
      "execution_count": 8,
      "outputs": [
        {
          "output_type": "execute_result",
          "data": {
            "text/plain": [
              "True"
            ]
          },
          "metadata": {
            "tags": []
          },
          "execution_count": 8
        }
      ]
    },
    {
      "metadata": {
        "id": "LV5XX2A0UDoD",
        "colab_type": "text"
      },
      "cell_type": "markdown",
      "source": [
        "### Opposite multiplication convention\n",
        "\n",
        "For multiplication of permutations, there are two conventions.  The one implicitly picked out is the convention related to the usual *composition* order of functions: namely, that $x \\circ y$ means do $y$ first and then do $x$.  This is easy to verify from the example above. \n",
        "\n",
        "If we wanted the opposite convention---that multiplying $x\\cdot y$ means to first do the permutation $x$ and then do the permutation $gy$---then we could define a custom **opposite multiplication** operation `mult_op`. "
      ]
    },
    {
      "metadata": {
        "id": "Tvq53vCVe7sE",
        "colab_type": "code",
        "colab": {}
      },
      "cell_type": "code",
      "source": [
        "def mult_op(x, y):\n",
        "  return y[x]"
      ],
      "execution_count": 0,
      "outputs": []
    },
    {
      "metadata": {
        "id": "J48eAiuGfuoS",
        "colab_type": "code",
        "colab": {
          "base_uri": "https://localhost:8080/",
          "height": 34
        },
        "outputId": "45ea516d-1edd-4369-eaab-9280eace8595"
      },
      "cell_type": "code",
      "source": [
        "mult_op(x1, x2)"
      ],
      "execution_count": 10,
      "outputs": [
        {
          "output_type": "execute_result",
          "data": {
            "text/plain": [
              "array([4, 3, 0, 1, 2])"
            ]
          },
          "metadata": {
            "tags": []
          },
          "execution_count": 10
        }
      ]
    },
    {
      "metadata": {
        "id": "Kezc1_Cy6McE",
        "colab_type": "text"
      },
      "cell_type": "markdown",
      "source": [
        "Of course, the opposite multiplication is also associative."
      ]
    },
    {
      "metadata": {
        "id": "ZPJDcc1mNKgZ",
        "colab_type": "code",
        "colab": {
          "base_uri": "https://localhost:8080/",
          "height": 34
        },
        "outputId": "16c64813-1f16-487c-e34e-861fdb6224ab"
      },
      "cell_type": "code",
      "source": [
        "all(mult_op(mult_op(x1,x2),x3) == mult_op(x1, mult_op(x2, x3)))"
      ],
      "execution_count": 11,
      "outputs": [
        {
          "output_type": "execute_result",
          "data": {
            "text/plain": [
              "True"
            ]
          },
          "metadata": {
            "tags": []
          },
          "execution_count": 11
        }
      ]
    },
    {
      "metadata": {
        "id": "2nRp_f32fUau",
        "colab_type": "text"
      },
      "cell_type": "markdown",
      "source": [
        "## Inversion is `argsort()`\n",
        "\n",
        "Since the permutation $[a_0,a_1,\\ldots a_{n-1}]$ maps $i\\mapsto a_i$, the inverse of this permutation, denoted $[a_0,a_1,\\ldots a_{n-1}]^{-1}$, maps $a_i \\to i$.  \n",
        "\n",
        "For example, $$[1,3,0,2]^{-1}$$ maps $1 \\mapsto 0$, $3 \\mapsto 1$, $0\\mapsto 2$, and $2\\mapsto 3$.   Writing this in the list notation, we find:   \n",
        "$$[1,3,0,2]^{-1} = [2,0,3,1].$$\n",
        "If you examine this process carefully, you'll see that inverting a permutation array amounds to listing the *indices* of the elements $0, 1, \\ldots$ in order.  This is exactly what numpy's `argsort()` method does! \n",
        "\n",
        "The `argsort()` method is of course more general: when applied to a 1d array of numbers, it returns the order of the *indices* needed to sort the array, even if there are  elements that are equal.  But, in our case, the elements *are* indices, and argsort is just the same as inversion.    "
      ]
    },
    {
      "metadata": {
        "id": "uX5q5lV9owLV",
        "colab_type": "code",
        "colab": {
          "base_uri": "https://localhost:8080/",
          "height": 34
        },
        "outputId": "0e715fdd-cdef-4a6e-948e-134e0c03a8f7"
      },
      "cell_type": "code",
      "source": [
        "np.array([1,3,0,2]).argsort()"
      ],
      "execution_count": 12,
      "outputs": [
        {
          "output_type": "execute_result",
          "data": {
            "text/plain": [
              "array([2, 0, 3, 1])"
            ]
          },
          "metadata": {
            "tags": []
          },
          "execution_count": 12
        }
      ]
    },
    {
      "metadata": {
        "id": "hAP-beAQ5jjk",
        "colab_type": "text"
      },
      "cell_type": "markdown",
      "source": [
        "Let's check that this really is the inverse in this example:"
      ]
    },
    {
      "metadata": {
        "id": "ZlssZrtNfXov",
        "colab_type": "code",
        "colab": {
          "base_uri": "https://localhost:8080/",
          "height": 52
        },
        "outputId": "959e58ee-164b-4cb5-f5ef-bc06802e686c"
      },
      "cell_type": "code",
      "source": [
        "x1 = np.array([1, 3, 0, 2])\n",
        "\n",
        "print(mult_op(x1, x1.argsort()))\n",
        "print(mult_op(x1.argsort(), x1))"
      ],
      "execution_count": 13,
      "outputs": [
        {
          "output_type": "stream",
          "text": [
            "[0 1 2 3]\n",
            "[0 1 2 3]\n"
          ],
          "name": "stdout"
        }
      ]
    },
    {
      "metadata": {
        "id": "vbUMnq-13xrZ",
        "colab_type": "text"
      },
      "cell_type": "markdown",
      "source": [
        "## Generating the permutation group $S_n$\n",
        "\n",
        "To build the entire permutation group $S_n$, it is convenient to use the `itertools` module, which has a generator for permutations of a list, and returns all of the permutations in lexecographic order with respect to the original order of the list."
      ]
    },
    {
      "metadata": {
        "id": "fixR2U693lfr",
        "colab_type": "code",
        "colab": {}
      },
      "cell_type": "code",
      "source": [
        "from itertools import permutations\n",
        "\n",
        "def perm_elts(n):\n",
        "  id = list(range(n))\n",
        "  perms = list(permutations(id))\n",
        "  return np.array(list(map(list, perms)))"
      ],
      "execution_count": 0,
      "outputs": []
    },
    {
      "metadata": {
        "id": "W5RGrlH63p79",
        "colab_type": "code",
        "colab": {}
      },
      "cell_type": "code",
      "source": [
        "s3 = perm_elts(3)"
      ],
      "execution_count": 0,
      "outputs": []
    },
    {
      "metadata": {
        "id": "hlJxR6BH4lfW",
        "colab_type": "code",
        "colab": {
          "base_uri": "https://localhost:8080/",
          "height": 121
        },
        "outputId": "5d397c3c-1219-4c49-dc1f-ff652b13ed07"
      },
      "cell_type": "code",
      "source": [
        "print(s3)"
      ],
      "execution_count": 16,
      "outputs": [
        {
          "output_type": "stream",
          "text": [
            "[[0 1 2]\n",
            " [0 2 1]\n",
            " [1 0 2]\n",
            " [1 2 0]\n",
            " [2 0 1]\n",
            " [2 1 0]]\n"
          ],
          "name": "stdout"
        }
      ]
    },
    {
      "metadata": {
        "id": "UkeTV6L5PE7G",
        "colab_type": "code",
        "colab": {
          "base_uri": "https://localhost:8080/",
          "height": 121
        },
        "outputId": "53efc55f-1dfc-41ef-d5dc-4971e09e86c4"
      },
      "cell_type": "code",
      "source": [
        "print(s3.argsort())"
      ],
      "execution_count": 17,
      "outputs": [
        {
          "output_type": "stream",
          "text": [
            "[[0 1 2]\n",
            " [0 2 1]\n",
            " [1 0 2]\n",
            " [2 0 1]\n",
            " [1 2 0]\n",
            " [2 1 0]]\n"
          ],
          "name": "stdout"
        }
      ]
    },
    {
      "metadata": {
        "id": "EMxborKGXt3Y",
        "colab_type": "text"
      },
      "cell_type": "markdown",
      "source": [
        "## Example: Dihedral group\n",
        "\n",
        "Of course, *every* finite group is a subgroup of a permutation group, so we can really do caluclations in any finite group in this way. \n",
        "\n",
        "The dihedral group $D_n$ is the symmetry group on a regular $n$-gon, and can be seen as a subgroup of the group of permutations of the vertices $[0,\\ldots,n-1]$, labeled in, say, clockwise order.  It is generated by two elements: a reflection through vertex \"0\" and a reflection throught the midpoint of the edge between vertices 0 and 1. These are given respectively by:\n",
        "\n",
        "$a = [0, n-1, n-2, \\ldots 1]$\n",
        "\n",
        "$b = [1, 0, n-1, n-2, \\ldots 1]$\n",
        "\n",
        "And, since these are both order 2, we can get all $2n$ elements of the group by alternating products of $a$ and $b$.  That's what the generator `dihedral_elts_gen` below does.  The function `dihedral_elts` calls this generator and returns a numpy array populated with all of those group elements. "
      ]
    },
    {
      "metadata": {
        "id": "C97ZHJdzdRLh",
        "colab_type": "code",
        "colab": {}
      },
      "cell_type": "code",
      "source": [
        "def dihedral_elts_gen(n):\n",
        "  a = np.append(np.array([0]), np.arange(n-1,0,-1) )\n",
        "  b = np.append(np.array([1,0]), np.arange(n-1,1,-1) )\n",
        "  w = np.arange(n) # initially the identity permutation\n",
        "  for _ in range(n):\n",
        "    yield w\n",
        "    w = a[w]\n",
        "    yield w\n",
        "    w = b[w]\n",
        "    \n",
        "def dihedral_elts(n):\n",
        "  return np.array(list(dihedral_elts_gen(n)))\n",
        "  \n",
        "    "
      ],
      "execution_count": 0,
      "outputs": []
    },
    {
      "metadata": {
        "id": "Hg0OETfVfJfW",
        "colab_type": "code",
        "colab": {
          "base_uri": "https://localhost:8080/",
          "height": 156
        },
        "outputId": "48b044b1-8226-42cc-c039-4f15b92d5de5"
      },
      "cell_type": "code",
      "source": [
        "print(dihedral_elts(4))"
      ],
      "execution_count": 24,
      "outputs": [
        {
          "output_type": "stream",
          "text": [
            "[[0 1 2 3]\n",
            " [0 3 2 1]\n",
            " [1 2 3 0]\n",
            " [3 2 1 0]\n",
            " [2 3 0 1]\n",
            " [2 1 0 3]\n",
            " [3 0 1 2]\n",
            " [1 0 3 2]]\n"
          ],
          "name": "stdout"
        }
      ]
    },
    {
      "metadata": {
        "id": "FdN7AGKQVtMr",
        "colab_type": "text"
      },
      "cell_type": "markdown",
      "source": [
        "## Vectorization\n",
        "\n",
        "\"Vectorized operations\" act on an entire array at once, rather than doing the same kind of operation on individual elements one at a time.  This makes them much more efficient than doing things, for example, with for loops.  "
      ]
    },
    {
      "metadata": {
        "id": "qegRBl8M9ImO",
        "colab_type": "text"
      },
      "cell_type": "markdown",
      "source": [
        "We've seen we can do multiplication like this:"
      ]
    },
    {
      "metadata": {
        "id": "rT8Rs2RC9SMs",
        "colab_type": "code",
        "colab": {
          "base_uri": "https://localhost:8080/",
          "height": 52
        },
        "outputId": "684fbe24-c90e-401e-c9f3-60e7327842b3"
      },
      "cell_type": "code",
      "source": [
        "x1 = np.array([1,3,2,0])\n",
        "y1 = np.array([0,2,1,3])\n",
        "x2 = np.array([2,1,0,3])\n",
        "y2 = np.array([2,1,3,0])\n",
        "\n",
        "print(x1[y1])\n",
        "print(x2[y2])"
      ],
      "execution_count": 29,
      "outputs": [
        {
          "output_type": "stream",
          "text": [
            "[1 2 3 0]\n",
            "[0 1 3 2]\n"
          ],
          "name": "stdout"
        }
      ]
    },
    {
      "metadata": {
        "id": "-qjJKp_D99qA",
        "colab_type": "text"
      },
      "cell_type": "markdown",
      "source": [
        "But we can also do this:  First define arrays containing both of the `x` elements and both of the `y` elements, and then use a bit of advanced indexing to multiply."
      ]
    },
    {
      "metadata": {
        "id": "odPMsq1J-Aid",
        "colab_type": "code",
        "colab": {
          "base_uri": "https://localhost:8080/",
          "height": 86
        },
        "outputId": "5850d0d0-3eca-4069-b96b-8083265ab58d"
      },
      "cell_type": "code",
      "source": [
        "xs = np.array([x1,x2])\n",
        "ys = np.array([y1,y2])\n",
        "print(xs)\n",
        "print(ys)"
      ],
      "execution_count": 30,
      "outputs": [
        {
          "output_type": "stream",
          "text": [
            "[[1 3 2 0]\n",
            " [2 1 0 3]]\n",
            "[[0 2 1 3]\n",
            " [2 1 3 0]]\n"
          ],
          "name": "stdout"
        }
      ]
    },
    {
      "metadata": {
        "id": "ogvjvjKaRKT6",
        "colab_type": "code",
        "colab": {
          "base_uri": "https://localhost:8080/",
          "height": 52
        },
        "outputId": "a34681d2-3957-41e4-e58d-96f83420778e"
      },
      "cell_type": "code",
      "source": [
        "xs[np.array([[0],[1]]), ys]"
      ],
      "execution_count": 31,
      "outputs": [
        {
          "output_type": "execute_result",
          "data": {
            "text/plain": [
              "array([[1, 2, 3, 0],\n",
              "       [0, 1, 3, 2]])"
            ]
          },
          "metadata": {
            "tags": []
          },
          "execution_count": 31
        }
      ]
    },
    {
      "metadata": {
        "id": "XQ8Y5HzQpXsN",
        "colab_type": "text"
      },
      "cell_type": "markdown",
      "source": [
        "This is the same as we got before.  \n",
        "\n",
        "Using this idea, we can define a multiplication operation that operates componentwise on two arrays of permutation arrays."
      ]
    },
    {
      "metadata": {
        "id": "OxpQiTfappIR",
        "colab_type": "code",
        "colab": {}
      },
      "cell_type": "code",
      "source": [
        "def vmult(arr1, arr2):\n",
        "  assert len(arr1.shape) == 2\n",
        "  assert arr1.shape == arr2.shape\n",
        "  length = arr1.shape[0]\n",
        "  row_selector = np.expand_dims(np.arange(length), -1)\n",
        "  return arr1[row_selector, arr2]\n",
        "\n",
        "def vmult_op(arr1, arr2):\n",
        "  return vmult(arr2, arr1)"
      ],
      "execution_count": 0,
      "outputs": []
    },
    {
      "metadata": {
        "id": "6hG3B21prMia",
        "colab_type": "code",
        "colab": {
          "base_uri": "https://localhost:8080/",
          "height": 52
        },
        "outputId": "637aa123-7fc7-4203-bc68-343b18408308"
      },
      "cell_type": "code",
      "source": [
        "vmult(xs, ys)"
      ],
      "execution_count": 33,
      "outputs": [
        {
          "output_type": "execute_result",
          "data": {
            "text/plain": [
              "array([[1, 2, 3, 0],\n",
              "       [0, 1, 3, 2]])"
            ]
          },
          "metadata": {
            "tags": []
          },
          "execution_count": 33
        }
      ]
    },
    {
      "metadata": {
        "id": "ZyOCX_kOr4fo",
        "colab_type": "text"
      },
      "cell_type": "markdown",
      "source": [
        "\n",
        "Just as a speed test, let's make an array that containts all $10! = 3{,}628{,}800$ elements $S_{10}$, invert one copy using `argsort()`, and then multiply the two copies together, just to verify that we get $10!$ copies of the identity element. Not a terribly interesting calculation, but a big one, and we're mainly interested in checking the speed. I'll use the `%%time` cell magic to print out the time required for the next two cells.  You can see that it takes much longer just to create the array with all of the group elements than it does to do the actual calculation.  All $10!$ inversions and multiplications take only around a second.   "
      ]
    },
    {
      "metadata": {
        "id": "ZAhlYj1k9B99",
        "colab_type": "code",
        "colab": {
          "base_uri": "https://localhost:8080/",
          "height": 52
        },
        "outputId": "46a219dc-7360-4567-80af-f2c20aef0161"
      },
      "cell_type": "code",
      "source": [
        "%%time \n",
        "s10 = perm_elts(10)"
      ],
      "execution_count": 36,
      "outputs": [
        {
          "output_type": "stream",
          "text": [
            "CPU times: user 9.46 s, sys: 1.32 s, total: 10.8 s\n",
            "Wall time: 10.7 s\n"
          ],
          "name": "stdout"
        }
      ]
    },
    {
      "metadata": {
        "id": "SN63ay77SYDE",
        "colab_type": "code",
        "colab": {
          "base_uri": "https://localhost:8080/",
          "height": 139
        },
        "outputId": "e6b40f17-41dc-4f48-e6d2-ba4f99d097dc"
      },
      "cell_type": "code",
      "source": [
        "%%time\n",
        "s10inv = s10.argsort()\n",
        "prod = vmult(s10,s10inv)\n",
        "print(prod[:5])"
      ],
      "execution_count": 37,
      "outputs": [
        {
          "output_type": "stream",
          "text": [
            "[[0 1 2 3 4 5 6 7 8 9]\n",
            " [0 1 2 3 4 5 6 7 8 9]\n",
            " [0 1 2 3 4 5 6 7 8 9]\n",
            " [0 1 2 3 4 5 6 7 8 9]\n",
            " [0 1 2 3 4 5 6 7 8 9]]\n",
            "CPU times: user 744 ms, sys: 23.5 ms, total: 767 ms\n",
            "Wall time: 774 ms\n"
          ],
          "name": "stdout"
        }
      ]
    },
    {
      "metadata": {
        "id": "ubOIpHJl903O",
        "colab_type": "text"
      },
      "cell_type": "markdown",
      "source": [
        "** Note: ** Applying multiple permutations to the a single permutation is simpler than the `vmult` function defined above."
      ]
    },
    {
      "metadata": {
        "id": "QazKxfIE9Rn_",
        "colab_type": "code",
        "colab": {
          "base_uri": "https://localhost:8080/",
          "height": 104
        },
        "outputId": "fdea9ceb-2677-45c1-d58a-b5bf0f5b6587"
      },
      "cell_type": "code",
      "source": [
        "print(\"xs[[0,y1]] = \", xs[[0,y1]], \"\\n\")\n",
        "print(\"xs[:,y1] = \\n\", xs[:,y1])"
      ],
      "execution_count": 38,
      "outputs": [
        {
          "output_type": "stream",
          "text": [
            "xs[[0,y1]] =  [1 2 3 0] \n",
            "\n",
            "xs[:,y1] = \n",
            " [[1 2 3 0]\n",
            " [2 0 1 3]]\n"
          ],
          "name": "stdout"
        }
      ]
    },
    {
      "metadata": {
        "id": "HWhooWtY1ISU",
        "colab_type": "text"
      },
      "cell_type": "markdown",
      "source": [
        "## <a name=\"actions\">Actions</a>\n",
        "\n",
        "Advanced indexing also lets us use a permutation array to act on a given set of symbols.  \n",
        "\n",
        "For a musical example, there's the action of $D_{12}$ on the set of pitches modulo octave shifts:"
      ]
    },
    {
      "metadata": {
        "id": "OQx9BlT_2Lcz",
        "colab_type": "code",
        "colab": {}
      },
      "cell_type": "code",
      "source": [
        "notenames = np.array(['C','C#','D','D#','E','F','F#','G','G#','A','A#','B'])"
      ],
      "execution_count": 0,
      "outputs": []
    },
    {
      "metadata": {
        "id": "0ic_dKMG2RGg",
        "colab_type": "code",
        "colab": {}
      },
      "cell_type": "code",
      "source": [
        "d12 = dihedral_elts(12)"
      ],
      "execution_count": 0,
      "outputs": []
    },
    {
      "metadata": {
        "id": "HdiNvur52ZFC",
        "colab_type": "code",
        "colab": {
          "base_uri": "https://localhost:8080/",
          "height": 434
        },
        "outputId": "079817cb-cd31-49ac-84ae-dabe11ea7210"
      },
      "cell_type": "code",
      "source": [
        "for p in d12:\n",
        "  print(notenames[p])"
      ],
      "execution_count": 42,
      "outputs": [
        {
          "output_type": "stream",
          "text": [
            "['C' 'C#' 'D' 'D#' 'E' 'F' 'F#' 'G' 'G#' 'A' 'A#' 'B']\n",
            "['C' 'B' 'A#' 'A' 'G#' 'G' 'F#' 'F' 'E' 'D#' 'D' 'C#']\n",
            "['C#' 'D' 'D#' 'E' 'F' 'F#' 'G' 'G#' 'A' 'A#' 'B' 'C']\n",
            "['B' 'A#' 'A' 'G#' 'G' 'F#' 'F' 'E' 'D#' 'D' 'C#' 'C']\n",
            "['D' 'D#' 'E' 'F' 'F#' 'G' 'G#' 'A' 'A#' 'B' 'C' 'C#']\n",
            "['A#' 'A' 'G#' 'G' 'F#' 'F' 'E' 'D#' 'D' 'C#' 'C' 'B']\n",
            "['D#' 'E' 'F' 'F#' 'G' 'G#' 'A' 'A#' 'B' 'C' 'C#' 'D']\n",
            "['A' 'G#' 'G' 'F#' 'F' 'E' 'D#' 'D' 'C#' 'C' 'B' 'A#']\n",
            "['E' 'F' 'F#' 'G' 'G#' 'A' 'A#' 'B' 'C' 'C#' 'D' 'D#']\n",
            "['G#' 'G' 'F#' 'F' 'E' 'D#' 'D' 'C#' 'C' 'B' 'A#' 'A']\n",
            "['F' 'F#' 'G' 'G#' 'A' 'A#' 'B' 'C' 'C#' 'D' 'D#' 'E']\n",
            "['G' 'F#' 'F' 'E' 'D#' 'D' 'C#' 'C' 'B' 'A#' 'A' 'G#']\n",
            "['F#' 'G' 'G#' 'A' 'A#' 'B' 'C' 'C#' 'D' 'D#' 'E' 'F']\n",
            "['F#' 'F' 'E' 'D#' 'D' 'C#' 'C' 'B' 'A#' 'A' 'G#' 'G']\n",
            "['G' 'G#' 'A' 'A#' 'B' 'C' 'C#' 'D' 'D#' 'E' 'F' 'F#']\n",
            "['F' 'E' 'D#' 'D' 'C#' 'C' 'B' 'A#' 'A' 'G#' 'G' 'F#']\n",
            "['G#' 'A' 'A#' 'B' 'C' 'C#' 'D' 'D#' 'E' 'F' 'F#' 'G']\n",
            "['E' 'D#' 'D' 'C#' 'C' 'B' 'A#' 'A' 'G#' 'G' 'F#' 'F']\n",
            "['A' 'A#' 'B' 'C' 'C#' 'D' 'D#' 'E' 'F' 'F#' 'G' 'G#']\n",
            "['D#' 'D' 'C#' 'C' 'B' 'A#' 'A' 'G#' 'G' 'F#' 'F' 'E']\n",
            "['A#' 'B' 'C' 'C#' 'D' 'D#' 'E' 'F' 'F#' 'G' 'G#' 'A']\n",
            "['D' 'C#' 'C' 'B' 'A#' 'A' 'G#' 'G' 'F#' 'F' 'E' 'D#']\n",
            "['B' 'C' 'C#' 'D' 'D#' 'E' 'F' 'F#' 'G' 'G#' 'A' 'A#']\n",
            "['C#' 'C' 'B' 'A#' 'A' 'G#' 'G' 'F#' 'F' 'E' 'D#' 'D']\n"
          ],
          "name": "stdout"
        }
      ]
    },
    {
      "metadata": {
        "id": "bVCxSD-MA7f5",
        "colab_type": "text"
      },
      "cell_type": "markdown",
      "source": [
        "### Left actions\n",
        "\n",
        "Because `x[y]` in our advanced indexing notation means to apply the permutation `y` to the permutation `x`, we most naturally get a *right* action.  If we want a *left* action instead, we have to use one of two standard tricks.  \n",
        "\n",
        "In general, to turn a right action $x \\lhd y$ into a left action, we define $y \\rhd x = x \\lhd y^{-1}$.  The inverse is  needed so that the axiom $(x'x) \\rhd y = x' \\rhd (x \\rhd y)$ holds.  "
      ]
    },
    {
      "metadata": {
        "id": "O68yYZHm80zy",
        "colab_type": "code",
        "colab": {}
      },
      "cell_type": "code",
      "source": [
        "def act(p):\n",
        "  def f(x):\n",
        "    return x[p.argsort()]\n",
        "  return f"
      ],
      "execution_count": 0,
      "outputs": []
    },
    {
      "metadata": {
        "id": "Jc-qfB6Kec7F",
        "colab_type": "code",
        "colab": {}
      },
      "cell_type": "code",
      "source": [
        "p1 = np.array([1,3,2,0])\n",
        "p2 = np.array([1,0,3,2])\n",
        "s = np.array(['a','b','c','d'])"
      ],
      "execution_count": 0,
      "outputs": []
    },
    {
      "metadata": {
        "id": "TfeWWYRdQa1-",
        "colab_type": "code",
        "colab": {
          "base_uri": "https://localhost:8080/",
          "height": 52
        },
        "outputId": "cbcf2783-ab39-4328-930e-0f322f2339d5"
      },
      "cell_type": "code",
      "source": [
        "# check the main \"action\" axiom in this example:\n",
        "print(act(p1)(act(p2)(s)))\n",
        "print(act(p1[p2])(s))"
      ],
      "execution_count": 45,
      "outputs": [
        {
          "output_type": "stream",
          "text": [
            "['c' 'b' 'd' 'a']\n",
            "['c' 'b' 'd' 'a']\n"
          ],
          "name": "stdout"
        }
      ]
    },
    {
      "metadata": {
        "id": "fTnC3oQQ_ah0",
        "colab_type": "text"
      },
      "cell_type": "markdown",
      "source": [
        "The other alternative is to use not use the inverse, and instead make the action compatible with the opposite multiplication. "
      ]
    },
    {
      "metadata": {
        "id": "8Tzdk2CmQgOD",
        "colab_type": "code",
        "colab": {}
      },
      "cell_type": "code",
      "source": [
        "def act_op(p):\n",
        "  def f(x):\n",
        "    return x[p]\n",
        "  return f"
      ],
      "execution_count": 0,
      "outputs": []
    },
    {
      "metadata": {
        "id": "gnq1yN_n_KG7",
        "colab_type": "code",
        "colab": {
          "base_uri": "https://localhost:8080/",
          "height": 52
        },
        "outputId": "f63570e6-572b-4cb4-aca0-fe19894a7174"
      },
      "cell_type": "code",
      "source": [
        "print(act_op(p1)(act(p2)(s)))\n",
        "print(act_op(mult_op(p1,p2))(s))"
      ],
      "execution_count": 36,
      "outputs": [
        {
          "output_type": "stream",
          "text": [
            "['a' 'c' 'd' 'b']\n",
            "['a' 'c' 'd' 'b']\n"
          ],
          "name": "stdout"
        }
      ]
    },
    {
      "metadata": {
        "id": "BoGunaRI_Pph",
        "colab_type": "code",
        "colab": {}
      },
      "cell_type": "code",
      "source": [
        ""
      ],
      "execution_count": 0,
      "outputs": []
    }
  ]
}
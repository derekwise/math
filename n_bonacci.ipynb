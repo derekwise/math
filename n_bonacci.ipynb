{
  "nbformat": 4,
  "nbformat_minor": 0,
  "metadata": {
    "colab": {
      "name": "n-bonacci.ipynb",
      "version": "0.3.2",
      "provenance": [],
      "collapsed_sections": [],
      "include_colab_link": true
    },
    "kernelspec": {
      "name": "python3",
      "display_name": "Python 3"
    }
  },
  "cells": [
    {
      "cell_type": "markdown",
      "metadata": {
        "id": "view-in-github",
        "colab_type": "text"
      },
      "source": [
        "[View in Colaboratory](https://colab.research.google.com/github/derekwise/math/blob/master/n_bonacci.ipynb)"
      ]
    },
    {
      "metadata": {
        "id": "YSCCr5bG41nz",
        "colab_type": "text"
      },
      "cell_type": "markdown",
      "source": [
        "# The n-Bonacci numbers in Python\n",
        "\n",
        "## Zibonacci, Monobonacci, Fibonacci, Tribonacci, Tetrabonacci ... \n",
        "\n",
        "**Derek K. Wise**\n",
        "\n",
        "1 Sept 2018"
      ]
    },
    {
      "metadata": {
        "id": "xNceorwPT3Hl",
        "colab_type": "text"
      },
      "cell_type": "markdown",
      "source": [
        "## Fibonacci Numbers\n",
        "\n",
        "Everybody knows about the Fibonacci numbers.  They're defined recursively by \n",
        "\n",
        "$F(0) = F(1) = 1$\n",
        "\n",
        "$F(k) = F(k-2) + F(k-1) \\qquad (k\\ge 2)$\n",
        "\n",
        "From a combinatorics perspective, $F(k)$ is just number of ways to take a sequence of length $k$ and partition it into subsequences of length 1 or 2. \n",
        "\n",
        "A bit more colorfully: If in ascending a staircase you can take either one or two stairs each time, the number of distinct ways you can get to the top is the $k$th Fibonacci number, where $k$ is the total number of stairs.  The key observation for a resursive proof of this is that on your first step you can either go up only one stair, in which case you still have $k-1$ stairs to go, or you can go up two stairs, in which case you still have $k-2$ stairs to go."
      ]
    },
    {
      "metadata": {
        "id": "rbTOqxmZ5Gtx",
        "colab_type": "text"
      },
      "cell_type": "markdown",
      "source": [
        "## $n$-Bonacci numbers\n",
        "\n",
        "This way of viewing the Fibonacci numbers also makes them easy to generalize: we can define the $n$-Bonacci number $f_n(k)$ to be the number of ways to take a sequence of length $k$ and partition it into sequnces of length $\\ell$ for $1\\le \\ell\\le n$. \n",
        "\n",
        "In the \"stairs\" analogy, for example, if you have longer legs, maybe you can take either one or two or _three_ stairs each time.  In that case, the number of distinct ways you can get to the top of a flight of $k$ stairs is [Tribonacci number](http://mathworld.wolfram.com/TribonacciNumber.html) $f_3(k)$.\n",
        "\n",
        "On the other hand, if you have shorter legs, or the stairs are bigger, maybe you can only manage one stair at a time.  Then, the number of distinct ways you can reach the top is 1, regardless of how many steps there are.  So the **Monobonacci numbers** must be $1,1,1,1,\\ldots$\n",
        "\n",
        "One fun thing about the $n$-bonacci numbers $f_n(k)$  is that they're recursively defined in terms of both $n$ and $k$.  Notice that if $k<n$, then $f_n(k)$ is the same thing as $f_{n-1}(k)$, since you can't have any subsequences longer than $n-1$ anyway.  That gives us recursivity for $n$; the recursivity for $k$ works just like it does for the Fibonacci numbers.  So we get:\n",
        "$$f_n(k) = \\left\\{\n",
        "\\begin{array}{cc}\n",
        "f_{n-1}(k) & k<n\\\\\n",
        "\\displaystyle\\sum_{i=1}^{n} f_n(k-i) & k\\ge n\n",
        "\\end{array}\n",
        "\\right.\n",
        "$$\n",
        "\n",
        "For the base case, all we need are the **Monobonacci Numbers** $f_1(k) \\equiv 1$.  However long your sequence is, there's exactly one way of partitioning it into subsequences of length 1. \n",
        "\n",
        "\"Mono, Fi, Tri, Tetra...\"  It's unfortunate that Fibonacci was not named \"Dibonacci\" instead."
      ]
    },
    {
      "metadata": {
        "id": "8tMRB7ossKZZ",
        "colab_type": "text"
      },
      "cell_type": "markdown",
      "source": [
        "## The $n$-bonacci numbers in Python\n",
        "\n",
        "A good way to implement the Fibonacci numbers in Python is like this:"
      ]
    },
    {
      "metadata": {
        "id": "geHJEpyn2ZwY",
        "colab_type": "code",
        "colab": {}
      },
      "cell_type": "code",
      "source": [
        "def fibonacci(k, cache={0:1, 1:1}):\n",
        "  if k not in cache:\n",
        "    cache[k] = fibonacci(k - 2) + fibonacci(k - 1)\n",
        "  return cache[k]"
      ],
      "execution_count": 0,
      "outputs": []
    },
    {
      "metadata": {
        "id": "GOgLdCXdjANn",
        "colab_type": "text"
      },
      "cell_type": "markdown",
      "source": [
        "**Note:** If you're not familiar with [dynamic programming](https://en.wikipedia.org/wiki/Dynamic_programming), the `cache` bit might be confusing at first, but it's very important! Implementing the recursive definition directly in code can be _really slow_, since the number of function calls for calculating $F(k)$ grows as $2^k$, and this involves computing the same values many times.  If you started calculating the Fibonacci numbers by hand, you'd probably write down values as you figured them out, so you didn't have to recalculate any. This is what the `cache` is for.  Initially, it just holds the values $F(0)$ and $F(1)$, but then it keeps storing new values to be referenced later."
      ]
    },
    {
      "metadata": {
        "id": "WhgySVf3i-Jw",
        "colab_type": "code",
        "colab": {
          "base_uri": "https://localhost:8080/",
          "height": 34
        },
        "outputId": "0e717dfe-b47b-49a3-8f2b-a2ed812351ff"
      },
      "cell_type": "code",
      "source": [
        "[fibonacci(k) for k in range(15)]"
      ],
      "execution_count": 2,
      "outputs": [
        {
          "output_type": "execute_result",
          "data": {
            "text/plain": [
              "[1, 1, 2, 3, 5, 8, 13, 21, 34, 55, 89, 144, 233, 377, 610]"
            ]
          },
          "metadata": {
            "tags": []
          },
          "execution_count": 2
        }
      ]
    },
    {
      "metadata": {
        "id": "cQNagVk8SxU-",
        "colab_type": "text"
      },
      "cell_type": "markdown",
      "source": [
        "and this avoids stack overflow and makes it fast to calculate even large Fibonacci numbers:"
      ]
    },
    {
      "metadata": {
        "id": "lO9gaIIjSltX",
        "colab_type": "code",
        "colab": {
          "base_uri": "https://localhost:8080/",
          "height": 34
        },
        "outputId": "5e1ed282-349a-4b5a-a946-ce49ad0c4dfb"
      },
      "cell_type": "code",
      "source": [
        "fibonacci(100)"
      ],
      "execution_count": 3,
      "outputs": [
        {
          "output_type": "execute_result",
          "data": {
            "text/plain": [
              "573147844013817084101"
            ]
          },
          "metadata": {
            "tags": []
          },
          "execution_count": 3
        }
      ]
    },
    {
      "metadata": {
        "id": "nAUO6nCieo0y",
        "colab_type": "text"
      },
      "cell_type": "markdown",
      "source": [
        "For the $n$-bonacci numbers, we use the doubly-recursive formula above.  In Python, I'll do this with a higher-order function (i.e., a function that returns another function), defining `bonacci` to be the function that maps\n",
        "$$n \\mapsto f_n$$\n",
        "The function `bonacci` itself doesnt need a cache, but each `bonacci(n)` does, and this initially stores the base cases, which come  from `bonacci(n-1)`:"
      ]
    },
    {
      "metadata": {
        "id": "8g3kxIxFzNIf",
        "colab_type": "code",
        "colab": {}
      },
      "cell_type": "code",
      "source": [
        "def bonacci(n):\n",
        "  \"\"\"\n",
        "  Higher-order function that takes a nonnegative integer n\n",
        "  and returns the function that takes a nonnegative integer k\n",
        "  and gives the kth n-bonacci number.\n",
        "  \"\"\"\n",
        "  if n == 1:  # the Monobonacci numbers\n",
        "    return lambda k: 1\n",
        "  inits = {m: bonacci(n - 1)(m) for m in range(n)}\n",
        "  def f(k, cache=inits):\n",
        "    if k not in cache:\n",
        "      cache[k] = sum([f(k-i) for i in range(1,n+1)])\n",
        "    return cache[k]\n",
        "  return f"
      ],
      "execution_count": 0,
      "outputs": []
    },
    {
      "metadata": {
        "id": "JCnFN4RQgrt7",
        "colab_type": "text"
      },
      "cell_type": "markdown",
      "source": [
        "The reason for using a higher order function here is that we can easily define functions to generate, say, the Fibonacci and Tribonacci numbers:"
      ]
    },
    {
      "metadata": {
        "id": "a5cK4tz40IAd",
        "colab_type": "code",
        "colab": {}
      },
      "cell_type": "code",
      "source": [
        "fib = bonacci(2)\n",
        "trib = bonacci(3)"
      ],
      "execution_count": 0,
      "outputs": []
    },
    {
      "metadata": {
        "id": "_UmjA9H9AFGh",
        "colab_type": "code",
        "colab": {
          "base_uri": "https://localhost:8080/",
          "height": 52
        },
        "outputId": "f2f3fcab-6996-4efc-e80d-43fd30ef7477"
      },
      "cell_type": "code",
      "source": [
        "print([fib(k) for k in range(10)])\n",
        "print([trib(k) for k in range(10)])"
      ],
      "execution_count": 6,
      "outputs": [
        {
          "output_type": "stream",
          "text": [
            "[1, 1, 2, 3, 5, 8, 13, 21, 34, 55]\n",
            "[1, 1, 2, 4, 7, 13, 24, 44, 81, 149]\n"
          ],
          "name": "stdout"
        }
      ]
    },
    {
      "metadata": {
        "id": "qNfo620vhBkx",
        "colab_type": "text"
      },
      "cell_type": "markdown",
      "source": [
        "Let's print a table of the first few $n$-bonacci numbers for $n=1,\\ldots 5$"
      ]
    },
    {
      "metadata": {
        "id": "Pt9WcHXe1gCF",
        "colab_type": "code",
        "colab": {
          "base_uri": "https://localhost:8080/",
          "height": 225
        },
        "outputId": "277c90b1-d4e7-463a-dc2b-41f55aa81e10"
      },
      "cell_type": "code",
      "source": [
        "print(\"n = {:5} {:5} {:5} {:5} {:5}\".format(1,2,3,4,5))\n",
        "print(\"-\"*35)\n",
        "for i in range(10):\n",
        "  print(\"    {:5} {:5} {:5} {:5} {:5}\".format(bonacci(1)(i),\n",
        "                                     bonacci(2)(i),\n",
        "                                     bonacci(3)(i),\n",
        "                                     bonacci(4)(i),\n",
        "                                     bonacci(5)(i)\n",
        "                                    )) "
      ],
      "execution_count": 7,
      "outputs": [
        {
          "output_type": "stream",
          "text": [
            "n =     1     2     3     4     5\n",
            "-----------------------------------\n",
            "        1     1     1     1     1\n",
            "        1     1     1     1     1\n",
            "        1     2     2     2     2\n",
            "        1     3     4     4     4\n",
            "        1     5     7     8     8\n",
            "        1     8    13    15    16\n",
            "        1    13    24    29    31\n",
            "        1    21    44    56    61\n",
            "        1    34    81   108   120\n",
            "        1    55   149   208   236\n"
          ],
          "name": "stdout"
        }
      ]
    },
    {
      "metadata": {
        "id": "bMorLdzU0fIh",
        "colab_type": "text"
      },
      "cell_type": "markdown",
      "source": [
        "## 0-Bonacci numbers? \n",
        "\n",
        "What about going down to $n=0$?  At first, it seems like $n$-Bonacci numbers shouldn't make since for $n=0$, since this would seem to involve subsequences of length $\\ell$ for $1 \\le \\ell \\le 0$, and there are _no_ such subsequences.  However, if your sequence has length zero already, you can partition it into _no_ subsequences.  From the \"stairs\" perspective, if there are no stairs to ascend, then the number of ways you can reach the top by taking $\\ell$ stairs at a time for $1\\le \\ell \\le 0$ is _one_---you're already there.   Otherwise, if there are one or more stairs, there's no way to get to the top. "
      ]
    },
    {
      "metadata": {
        "id": "iFCSw1vvVyzO",
        "colab_type": "text"
      },
      "cell_type": "markdown",
      "source": [
        "Evidently, the zero-bonacci numbers are given by:\n",
        "$$f_0(k) = \\left\\{\n",
        "\\begin{array}{cc}\n",
        "1 & k=0\\\\\n",
        "0 & k\\ge 1\n",
        "\\end{array}\n",
        "\\right.$$\n",
        "These can replace the monobonacci numbers as the base case for the recursive definition of $f_n(k)$ above.\n",
        "\n",
        "Unfortunately, the ancient Greeks didn't have a concept of Zero, so I'll just call these the **Zibonacci** numbers.\n",
        "\n",
        "I'll adjust the definition of bonacci accordingly.  We could eliminate the Monobonacci numbers entirely from the Python code, but this would be wasteful in terms of both memory and time, since there would be an extra cache that just stored the numbers `[1,1,1,...]`.  I'll leave in both base cases:"
      ]
    },
    {
      "metadata": {
        "id": "Xdp_9OTxNOyh",
        "colab_type": "code",
        "colab": {}
      },
      "cell_type": "code",
      "source": [
        "def bonacci(n):\n",
        "  \"\"\"\n",
        "  Higher-order function that takes a nonnegative integer n\n",
        "  and returns the function that takes a nonnegative integer k\n",
        "  and gives the kth n-bonacci number.\n",
        "  \"\"\"\n",
        "  if n == 0:  # the Zibonacci numbers\n",
        "    return lambda k: 1 if k == 0 else 0\n",
        "  if n == 1:  # the Monobonacci numbers\n",
        "    return lambda k: 1\n",
        "  inits = {m: bonacci(n - 1)(m) for m in range(n)}\n",
        "  def f(k, cache=inits):\n",
        "    if k not in cache:\n",
        "      cache[k] = sum([f(k-i) for i in range(1,n+1)])\n",
        "    return cache[k]\n",
        "  return f"
      ],
      "execution_count": 0,
      "outputs": []
    },
    {
      "metadata": {
        "id": "pj7upQv6mYqt",
        "colab_type": "code",
        "colab": {
          "base_uri": "https://localhost:8080/",
          "height": 34
        },
        "outputId": "23931f83-98cf-4aa9-9ae0-5d152c3577ae"
      },
      "cell_type": "code",
      "source": [
        "zib = bonacci(0)\n",
        "print([zib(k) for k in range(12)])"
      ],
      "execution_count": 9,
      "outputs": [
        {
          "output_type": "stream",
          "text": [
            "[1, 0, 0, 0, 0, 0, 0, 0, 0, 0, 0, 0]\n"
          ],
          "name": "stdout"
        }
      ]
    },
    {
      "metadata": {
        "id": "A6knE70SG1iy",
        "colab_type": "text"
      },
      "cell_type": "markdown",
      "source": [
        "## Infinitybonacci?\n",
        "\n",
        "The generalization to $n = \\infty$ is obvious.  You can check that\n",
        "$$ f_\\infty(k) = f_k(k) = \n",
        "\\left\\{\n",
        "\\begin{array}{cc}\n",
        "1 & k=0\\\\\n",
        "2^{k-1} & k\\ge 1\n",
        "\\end{array}\n",
        "\\right.$$"
      ]
    },
    {
      "metadata": {
        "id": "m9Tmz9nGkbg8",
        "colab_type": "code",
        "colab": {}
      },
      "cell_type": "code",
      "source": [
        "def infbonacci(k):\n",
        "  return 1 if k == 0 else 2**(k - 1)"
      ],
      "execution_count": 0,
      "outputs": []
    },
    {
      "metadata": {
        "id": "XBoDPG8-pCkF",
        "colab_type": "text"
      },
      "cell_type": "markdown",
      "source": [
        "I'll plot $f_n$ below for $n=0,1,2,3,3,4,5$, as well as $f_\\infty$ (the red dots):"
      ]
    },
    {
      "metadata": {
        "id": "kx9JdxB41ttb",
        "colab_type": "code",
        "colab": {
          "base_uri": "https://localhost:8080/",
          "height": 347
        },
        "outputId": "b1f7cea7-c9a8-48e9-8b40-d425ee125b98"
      },
      "cell_type": "code",
      "source": [
        "from matplotlib import pyplot as plt\n",
        "for n in range(6):\n",
        "  plt.plot([bonacci(n)(k) for k in range(12)])\n",
        "plt.plot([infbonacci(k) for k in range(12)], 'ro')\n",
        "plt.show()"
      ],
      "execution_count": 11,
      "outputs": [
        {
          "output_type": "display_data",
          "data": {
            "image/png": "[encoded data removed]",
            "text/plain": [
              "<matplotlib.figure.Figure at 0x7f17eaa73400>"
            ]
          },
          "metadata": {
            "tags": []
          }
        }
      ]
    },
    {
      "metadata": {
        "id": "spJwuTJx_MoX",
        "colab_type": "text"
      },
      "cell_type": "markdown",
      "source": [
        "\n",
        "## More fun:\n",
        "\n",
        "To dig deeper into the combinatorics of the $n$-bonacci numbers, try these old [homework exercises](http://math.ucr.edu/home/baez/qg-winter2004/tribonacci.pdf) by John Baez, or read them along with [my solutions](http://math.ucr.edu/home/baez/qg-winter2004/tribonacci_derek.pdf). \n",
        "\n"
      ]
    },
    {
      "metadata": {
        "id": "J3bhWT5Z_3Ow",
        "colab_type": "code",
        "colab": {}
      },
      "cell_type": "code",
      "source": [
        ""
      ],
      "execution_count": 0,
      "outputs": []
    }
  ]
}